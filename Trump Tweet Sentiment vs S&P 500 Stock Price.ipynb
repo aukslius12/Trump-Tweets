{
 "cells": [
  {
   "cell_type": "code",
   "execution_count": 1,
   "metadata": {},
   "outputs": [],
   "source": [
    "# Libraries.\n",
    "import pandas as pd \n",
    "import numpy as np      \n",
    "import datetime"
   ]
  },
  {
   "cell_type": "code",
   "execution_count": 2,
   "metadata": {},
   "outputs": [],
   "source": [
    "# UPDATE: due to the sheer ammount of time and computing required for this, I won't be doing it anymore.\n",
    "# Goals:\n",
    "# 1. sentiment, retweets, etc. regression on stock price.\n",
    "# 2. Neural network classification of tweet influence on\n",
    "# [high increase, low increase, no change, low decrease, high decrease] - this corresponds to stock\n",
    "# price movements.\n",
    "# 3. Neural network regression of tweet influence on stock price."
   ]
  },
  {
   "cell_type": "code",
   "execution_count": 3,
   "metadata": {},
   "outputs": [],
   "source": [
    "# Importing the datasets.\n",
    "tweets = pd.read_csv('tweets.csv')\n",
    "stocks = pd.read_csv('snp500.csv')"
   ]
  },
  {
   "cell_type": "code",
   "execution_count": 4,
   "metadata": {},
   "outputs": [],
   "source": [
    "# Fixing variable formats.\n",
    "stocks['Gmt time'] = stocks['Gmt time'].astype('datetime64')\n",
    "stocks = stocks.rename(index=str, columns={'Gmt time': 'created_at'})\n",
    "\n",
    "tweets['text'] = tweets['text'].astype('str')\n",
    "tweets['created_at'] = tweets['created_at'].astype('datetime64')\n",
    "tweets['source'] = tweets['source'].astype('str')\n",
    "\n",
    "# Setting indices as datetimes and dropping now irrelevant columns.\n",
    "stocks = stocks.set_index(pd.DatetimeIndex(stocks['created_at'])).iloc[:, 1:] \n",
    "tweets = tweets.set_index(pd.DatetimeIndex(tweets['created_at'])).drop(labels='created_at', axis=1)\n",
    "tweets.index = tweets.index.round(freq='min')\n",
    "\n",
    "# Subsetting tweets and stocks, which occured during opening hours.\n",
    "stocks = stocks.between_time('15:29', '21:01')\n",
    "tweets = tweets.between_time('15:29', '21:01')"
   ]
  },
  {
   "cell_type": "code",
   "execution_count": 5,
   "metadata": {},
   "outputs": [],
   "source": [
    "# VADER sentiment analysis.\n",
    "from nltk.sentiment.vader import SentimentIntensityAnalyzer\n",
    "sid = SentimentIntensityAnalyzer()\n",
    "\n",
    "# Getting the polarity scores of tweets\n",
    "scores = []\n",
    "for tweet in tweets['text']:\n",
    "    scores.append(sid.polarity_scores(tweet))\n",
    "    \n",
    "# Converting to pandas dataframe and joining with the final dataframe.\n",
    "scores = pd.DataFrame(scores)\n",
    "scores.index = tweets.index\n",
    "tweets = tweets.join(scores)"
   ]
  },
  {
   "cell_type": "code",
   "execution_count": 6,
   "metadata": {
    "scrolled": true
   },
   "outputs": [
    {
     "data": {
      "text/html": [
       "<div>\n",
       "<style scoped>\n",
       "    .dataframe tbody tr th:only-of-type {\n",
       "        vertical-align: middle;\n",
       "    }\n",
       "\n",
       "    .dataframe tbody tr th {\n",
       "        vertical-align: top;\n",
       "    }\n",
       "\n",
       "    .dataframe thead th {\n",
       "        text-align: right;\n",
       "    }\n",
       "</style>\n",
       "<table border=\"1\" class=\"dataframe\">\n",
       "  <thead>\n",
       "    <tr style=\"text-align: right;\">\n",
       "      <th></th>\n",
       "      <th>source</th>\n",
       "      <th>text</th>\n",
       "      <th>retweet_count</th>\n",
       "      <th>favorite_count</th>\n",
       "      <th>is_retweet</th>\n",
       "      <th>id_str</th>\n",
       "      <th>compound</th>\n",
       "      <th>neg</th>\n",
       "      <th>neu</th>\n",
       "      <th>pos</th>\n",
       "    </tr>\n",
       "    <tr>\n",
       "      <th>created_at</th>\n",
       "      <th></th>\n",
       "      <th></th>\n",
       "      <th></th>\n",
       "      <th></th>\n",
       "      <th></th>\n",
       "      <th></th>\n",
       "      <th></th>\n",
       "      <th></th>\n",
       "      <th></th>\n",
       "      <th></th>\n",
       "    </tr>\n",
       "  </thead>\n",
       "  <tbody>\n",
       "    <tr>\n",
       "      <th>2017-12-09 18:20:00</th>\n",
       "      <td>Twitter for iPhone</td>\n",
       "      <td>It was my great honor to celebrate the opening...</td>\n",
       "      <td>14844</td>\n",
       "      <td>66079</td>\n",
       "      <td>False</td>\n",
       "      <td>939560154269405184</td>\n",
       "      <td>0.9769</td>\n",
       "      <td>0.041</td>\n",
       "      <td>0.568</td>\n",
       "      <td>0.39</td>\n",
       "    </tr>\n",
       "  </tbody>\n",
       "</table>\n",
       "</div>"
      ],
      "text/plain": [
       "                                 source  \\\n",
       "created_at                                \n",
       "2017-12-09 18:20:00  Twitter for iPhone   \n",
       "\n",
       "                                                                  text  \\\n",
       "created_at                                                               \n",
       "2017-12-09 18:20:00  It was my great honor to celebrate the opening...   \n",
       "\n",
       "                     retweet_count  favorite_count  is_retweet  \\\n",
       "created_at                                                       \n",
       "2017-12-09 18:20:00          14844           66079       False   \n",
       "\n",
       "                                 id_str  compound    neg    neu   pos  \n",
       "created_at                                                             \n",
       "2017-12-09 18:20:00  939560154269405184    0.9769  0.041  0.568  0.39  "
      ]
     },
     "execution_count": 6,
     "metadata": {},
     "output_type": "execute_result"
    }
   ],
   "source": [
    "tweets.sort_values(by='compound', ascending=False).head(1)"
   ]
  },
  {
   "cell_type": "code",
   "execution_count": 7,
   "metadata": {},
   "outputs": [],
   "source": [
    "'''\n",
    "# This dataset has ALL the STOCK data, and boolean variable which indicates whether there was a tweet\n",
    "# at that time.(166517 rows.)\n",
    "stocks_full = pd.merge(stocks, tweets, on='created_at', how='left')\n",
    "stocks_full['tweet_present'] = ~stocks_full['text'].isnull()\n",
    "'''\n",
    "\n",
    "# This dataset has ONLY the STOCK data when stocks MATCH TWEET TIME. This dataset has stock\n",
    "# value differences between 5 min, 20 min, 60 min, 120 min, 180 min and  1440 min (24 hrs), \n",
    "# 2880 min (48 hrs) intervals. (Only 691 rows!)\n",
    "tweets_full = stocks\n",
    "for i in [5, 20, 60, 120, 180, 1440, 2880]:\n",
    "    tweets_full = tweets_full.join(stocks.diff(periods=i), rsuffix=str(i))\n",
    "\n",
    "# Dropping irrelevant values and merging with tweet data.\n",
    "tweets_full = tweets_full.dropna()\n",
    "tweets_full = tweets.merge(tweets_full, how='inner', on='created_at')"
   ]
  },
  {
   "cell_type": "code",
   "execution_count": 8,
   "metadata": {},
   "outputs": [],
   "source": [
    "# UPDATE: Note the update above.\n",
    "# I need to train the data on ALL of trump's tweets to get the correct sentiment.\n",
    "# 1. This is also unsupervised learning.\n",
    "# 2. Pre-trained methods can be used to analyse sentiment.\n",
    "\n",
    "# Identifying Companies, etc. in tweets. Making it a categorical variable (then one-hot encoding it).\n",
    "# ['Amazon', 'Facebook', etc. etc.]"
   ]
  },
  {
   "cell_type": "code",
   "execution_count": 9,
   "metadata": {},
   "outputs": [
    {
     "data": {
      "text/html": [
       "<div>\n",
       "<style scoped>\n",
       "    .dataframe tbody tr th:only-of-type {\n",
       "        vertical-align: middle;\n",
       "    }\n",
       "\n",
       "    .dataframe tbody tr th {\n",
       "        vertical-align: top;\n",
       "    }\n",
       "\n",
       "    .dataframe thead th {\n",
       "        text-align: right;\n",
       "    }\n",
       "</style>\n",
       "<table border=\"1\" class=\"dataframe\">\n",
       "  <thead>\n",
       "    <tr style=\"text-align: right;\">\n",
       "      <th></th>\n",
       "      <th>source</th>\n",
       "      <th>text</th>\n",
       "      <th>retweet_count</th>\n",
       "      <th>favorite_count</th>\n",
       "      <th>is_retweet</th>\n",
       "      <th>id_str</th>\n",
       "      <th>compound</th>\n",
       "      <th>neg</th>\n",
       "      <th>neu</th>\n",
       "      <th>pos</th>\n",
       "      <th>...</th>\n",
       "      <th>Open1440</th>\n",
       "      <th>High1440</th>\n",
       "      <th>Low1440</th>\n",
       "      <th>Close1440</th>\n",
       "      <th>Volume1440</th>\n",
       "      <th>Open2880</th>\n",
       "      <th>High2880</th>\n",
       "      <th>Low2880</th>\n",
       "      <th>Close2880</th>\n",
       "      <th>Volume2880</th>\n",
       "    </tr>\n",
       "    <tr>\n",
       "      <th>created_at</th>\n",
       "      <th></th>\n",
       "      <th></th>\n",
       "      <th></th>\n",
       "      <th></th>\n",
       "      <th></th>\n",
       "      <th></th>\n",
       "      <th></th>\n",
       "      <th></th>\n",
       "      <th></th>\n",
       "      <th></th>\n",
       "      <th></th>\n",
       "      <th></th>\n",
       "      <th></th>\n",
       "      <th></th>\n",
       "      <th></th>\n",
       "      <th></th>\n",
       "      <th></th>\n",
       "      <th></th>\n",
       "      <th></th>\n",
       "      <th></th>\n",
       "      <th></th>\n",
       "    </tr>\n",
       "  </thead>\n",
       "  <tbody>\n",
       "    <tr>\n",
       "      <th>2017-02-04 20:44:00</th>\n",
       "      <td>Twitter for Android</td>\n",
       "      <td>What is our country coming to when a judge can...</td>\n",
       "      <td>33272</td>\n",
       "      <td>148698</td>\n",
       "      <td>False</td>\n",
       "      <td>827981079042805761</td>\n",
       "      <td>-0.6908</td>\n",
       "      <td>0.233</td>\n",
       "      <td>0.689</td>\n",
       "      <td>0.079</td>\n",
       "      <td>...</td>\n",
       "      <td>0.06</td>\n",
       "      <td>0.039</td>\n",
       "      <td>0.062</td>\n",
       "      <td>0.041</td>\n",
       "      <td>-100.0</td>\n",
       "      <td>1.823</td>\n",
       "      <td>1.823</td>\n",
       "      <td>1.823</td>\n",
       "      <td>1.823</td>\n",
       "      <td>0.0</td>\n",
       "    </tr>\n",
       "  </tbody>\n",
       "</table>\n",
       "<p>1 rows × 50 columns</p>\n",
       "</div>"
      ],
      "text/plain": [
       "                                  source  \\\n",
       "created_at                                 \n",
       "2017-02-04 20:44:00  Twitter for Android   \n",
       "\n",
       "                                                                  text  \\\n",
       "created_at                                                               \n",
       "2017-02-04 20:44:00  What is our country coming to when a judge can...   \n",
       "\n",
       "                     retweet_count  favorite_count  is_retweet  \\\n",
       "created_at                                                       \n",
       "2017-02-04 20:44:00          33272          148698       False   \n",
       "\n",
       "                                 id_str  compound    neg    neu    pos  \\\n",
       "created_at                                                               \n",
       "2017-02-04 20:44:00  827981079042805761   -0.6908  0.233  0.689  0.079   \n",
       "\n",
       "                        ...      Open1440  High1440  Low1440  Close1440  \\\n",
       "created_at              ...                                               \n",
       "2017-02-04 20:44:00     ...          0.06     0.039    0.062      0.041   \n",
       "\n",
       "                     Volume1440  Open2880  High2880  Low2880  Close2880  \\\n",
       "created_at                                                                \n",
       "2017-02-04 20:44:00      -100.0     1.823     1.823    1.823      1.823   \n",
       "\n",
       "                     Volume2880  \n",
       "created_at                       \n",
       "2017-02-04 20:44:00         0.0  \n",
       "\n",
       "[1 rows x 50 columns]"
      ]
     },
     "execution_count": 9,
     "metadata": {},
     "output_type": "execute_result"
    }
   ],
   "source": [
    "tweets_full.head(1)"
   ]
  },
  {
   "cell_type": "code",
   "execution_count": 10,
   "metadata": {},
   "outputs": [
    {
     "name": "stderr",
     "output_type": "stream",
     "text": [
      "C:\\Users\\Jurgis\\AppData\\Local\\conda\\conda\\envs\\data_science\\lib\\site-packages\\sklearn\\cross_validation.py:41: DeprecationWarning: This module was deprecated in version 0.18 in favor of the model_selection module into which all the refactored classes and functions are moved. Also note that the interface of the new CV iterators are different from that of this module. This module will be removed in 0.20.\n",
      "  \"This module will be removed in 0.20.\", DeprecationWarning)\n"
     ]
    }
   ],
   "source": [
    "# Splitting into train-test datasets.\n",
    "X = tweets_full[['retweet_count', 'favorite_count', 'is_retweet', 'compound']].values\n",
    "y = tweets_full['High5'].values # Or High 60, 1440, etc. (this should be done as time series).\n",
    "\n",
    "from sklearn.cross_validation import train_test_split\n",
    "X_train, X_test, y_train, y_test = train_test_split(X, y, test_size=0.2)"
   ]
  },
  {
   "cell_type": "code",
   "execution_count": 11,
   "metadata": {},
   "outputs": [
    {
     "data": {
      "text/plain": [
       "SVR(C=1.0, cache_size=200, coef0=0.0, degree=3, epsilon=0.1, gamma='auto',\n",
       "  kernel='rbf', max_iter=-1, shrinking=True, tol=0.001, verbose=False)"
      ]
     },
     "execution_count": 11,
     "metadata": {},
     "output_type": "execute_result"
    }
   ],
   "source": [
    "# Fitting a basic Kernel SVR.\n",
    "from sklearn.svm import SVR\n",
    "regressor = SVR()\n",
    "regressor.fit(\n",
    "    X=X_train,\n",
    "    y=y_train)"
   ]
  },
  {
   "cell_type": "code",
   "execution_count": 12,
   "metadata": {},
   "outputs": [
    {
     "name": "stdout",
     "output_type": "stream",
     "text": [
      "    Actual value  SVR predicted value  Standardised difference\n",
      "72           0.0             0.000771                -0.204283\n",
      "96           0.0             0.000771                -0.204283\n",
      "54           0.0             0.000771                -0.204283\n",
      "25           0.0             0.000771                -0.204283\n",
      "71           0.0             0.000771                -0.204283\n",
      "\n",
      "\n",
      "       Actual value  SVR predicted value\n",
      "count    146.000000           146.000000\n",
      "mean       0.026027             0.003116\n",
      "std        0.221898             0.017686\n",
      "min       -0.599000            -0.069423\n",
      "25%        0.000000             0.000771\n",
      "50%        0.000000             0.000771\n",
      "75%        0.010750             0.000771\n",
      "max        2.051000             0.130129\n",
      "\n",
      "\n",
      "RMSE: 0.04845077226634818\n"
     ]
    }
   ],
   "source": [
    "# Returns SVR results.\n",
    "from sklearn.metrics import mean_squared_error\n",
    "\n",
    "y_pred = regressor.predict(X_test)\n",
    "def standardise(series):\n",
    "    return np.array([val - series.std(ddof=0) for val in series])\n",
    "\n",
    "results = pd.DataFrame({\n",
    "    'Actual value': y_test,\n",
    "    'SVR predicted value': y_pred,\n",
    "    'Standardised difference': standardise(y_test) - standardise(y_pred)\n",
    "})\n",
    "\n",
    "print(results.sample(5)) # Sample, because head() is uninformative.\n",
    "print('\\n')\n",
    "print(results.describe().iloc[:, :2])\n",
    "print('\\n')\n",
    "print('RMSE: %s' % mean_squared_error(y_test, y_pred))"
   ]
  }
 ],
 "metadata": {
  "kernelspec": {
   "display_name": "Python 3",
   "language": "python",
   "name": "python3"
  },
  "language_info": {
   "codemirror_mode": {
    "name": "ipython",
    "version": 3
   },
   "file_extension": ".py",
   "mimetype": "text/x-python",
   "name": "python",
   "nbconvert_exporter": "python",
   "pygments_lexer": "ipython3",
   "version": "3.6.5"
  }
 },
 "nbformat": 4,
 "nbformat_minor": 2
}
