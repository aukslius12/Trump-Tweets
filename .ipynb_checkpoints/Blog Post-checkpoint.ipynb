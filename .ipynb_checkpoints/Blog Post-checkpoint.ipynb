{
 "cells": [
  {
   "cell_type": "markdown",
   "metadata": {},
   "source": [
    "###Word2Vec into t-SNE into a sexy wordcloud\n",
    "\n",
    "Sounds promising? Yeah, I know, but the data we're going to use is... Trump Tweets. I know, I know, but maybe it's not that bad?"
   ]
  },
  {
   "cell_type": "markdown",
   "metadata": {},
   "source": [
    "![image](resources/img/google_search_1.png)"
   ]
  },
  {
   "cell_type": "markdown",
   "metadata": {},
   "source": [
    "Well.. Maybe it's not data scienceish?"
   ]
  },
  {
   "cell_type": "markdown",
   "metadata": {},
   "source": [
    "![image](resources/img/google_search_2.png)"
   ]
  },
  {
   "cell_type": "markdown",
   "metadata": {},
   "source": [
    ".. Ok, what about this *EXACT* thing that I am doing?"
   ]
  },
  {
   "cell_type": "markdown",
   "metadata": {},
   "source": [
    "![image](resources/img/google_search_3.png)"
   ]
  },
  {
   "cell_type": "markdown",
   "metadata": {},
   "source": [
    "You know, now that I've spent at least 4 semi-full days coding this, I feel kind of stupid. I even found a great article [here](http://www.languagejones.com/blog-1/2017/6/1/i-ran-all-trumps-tweets-through-a-neural-net-to-try-and-figure-out-the-meaning-of-covfefe-here-is-what-i-learned). No, seriously, check it out, it's really great."
   ]
  },
  {
   "cell_type": "markdown",
   "metadata": {},
   "source": [
    "Anyways, now that we've got \"this has been done literally 57 million times before and your analysis is shit\" out of the way, we can get into it."
   ]
  },
  {
   "cell_type": "markdown",
   "metadata": {},
   "source": [
    "I really like the idea of clustering - similar things most of the time are close to each other, therefore they are grouped or _clustered_ together. This is easily done - if a woman drives an SUV, has children and that iconic haircut (you know the one I'm talking about), she's probably going to belong to the \"Can I speak to the manager, please?\" category. \n",
    "\n",
    "This is also easily done with numerical categories such as age, salary, etc. in order to identify high income - high spender groups to bombard them with non stop ads after _every single fucking youtube video_ (fuck you google). "
   ]
  },
  {
   "cell_type": "markdown",
   "metadata": {},
   "source": [
    "It's all fine and dandy once you have numeric values or measurable categories. But what about text?\n",
    "\n",
    "It might seem similar to you that 'see you later' could be followed by 'aligator' or 'for a while' by 'crocodile', but to a computer, this is just nonsensical. IT'S A KILLER ANIMAL AND A GOODBYE FOR FUCKS SAKE. This is where Word2Vec algorithm comes into place. \n",
    "\n",
    "Skipping over almost every single detail, what this algorithm does is look for words that have been used in similar contexts and create their similarity level based on that.\n",
    "\n",
    "If you were to let the computer make the decision on a 4th grade english class, it might seem reasonable to it that 'see you later' and 'aligator' are almost identical phrases, yet if you were to take it into a news station, it would match 'aligator' and 'brutally murders a little kid' together."
   ]
  },
  {
   "cell_type": "code",
   "execution_count": 1,
   "metadata": {},
   "outputs": [
    {
     "data": {
      "text/html": [
       "<img src='http://www.gifbin.com/bin/012012/1327430311_cat_slaps_alligator.gif'></img>"
      ],
      "text/plain": [
       "<IPython.core.display.HTML object>"
      ]
     },
     "metadata": {},
     "output_type": "display_data"
    }
   ],
   "source": [
    "%%HTML\n",
    "<img src='http://www.gifbin.com/bin/012012/1327430311_cat_slaps_alligator.gif'></img>"
   ]
  },
  {
   "cell_type": "markdown",
   "metadata": {},
   "source": [
    "And this is where the beauty of this algorithm comes into place - words such as 'fake' and 'news' _might_ be similar in a specific context."
   ]
  },
  {
   "cell_type": "markdown",
   "metadata": {},
   "source": [
    "###Trump's Wordcloud\n",
    "\n",
    "What you're now going to look at is the 'similarity' graph of the words used frequently by Trump (to represent this in 2D i used t-SNE). Note, that not all the words are included."
   ]
  },
  {
   "cell_type": "markdown",
   "metadata": {},
   "source": [
    "![image](resources/img/word_cloud_full.png)"
   ]
  },
  {
   "cell_type": "markdown",
   "metadata": {},
   "source": [
    "Beautiful. What about it though? Well, a couple of things. First of all, if spent as much time trying to plot a graph that fits my needs, you would see that there is a slight trend going on here.\n",
    "\n",
    "Notice, that topleft has more positive (yellow) bubbles? Exactly. Let's take a closer look."
   ]
  },
  {
   "cell_type": "markdown",
   "metadata": {},
   "source": [
    "![image](resources/img/gratitude_cloud.png)"
   ]
  },
  {
   "cell_type": "markdown",
   "metadata": {},
   "source": [
    "This looks much like what gratitude would sound like - we have words like _congratulations, wonderful, thank, welcome_ littered all over the place. Leftmost words seem to represent welcoming and being honored by someone joining (prime minister) the whitehouse.\n",
    "\n"
   ]
  },
  {
   "cell_type": "markdown",
   "metadata": {},
   "source": [
    "Whats the opposite of gratitude in Trump's world?\n",
    "![image](resources/img/negative_cloud.png)"
   ]
  },
  {
   "cell_type": "markdown",
   "metadata": {},
   "source": [
    "Now this is beautiful, just look at it - just from a first glance, we notice two clusters, one of them being as obvious as it gets:\n",
    "![image](resources/img/fake_news_cloud.png)\n",
    "_I actually had to zoom REALLY close to prevent words from overlapping (and rare words have been filtered out!). This is a representation of how often fake news has been tweeted by Trump_\n",
    "![image](resources/img/hillary_cloud.png)"
   ]
  },
  {
   "cell_type": "markdown",
   "metadata": {},
   "source": [
    "Now, the second cloud is even more interesting. We have four things going on there - Obama, Hillary Clinton, Russia and Witch Hunt, _all of them_ being mentioned in similar contexts. It would seem that when Trump rants, he does it in a similar manner, but with different entities."
   ]
  },
  {
   "cell_type": "code",
   "execution_count": null,
   "metadata": {},
   "outputs": [],
   "source": []
  }
 ],
 "metadata": {
  "kernelspec": {
   "display_name": "Python 3",
   "language": "python",
   "name": "python3"
  },
  "language_info": {
   "codemirror_mode": {
    "name": "ipython",
    "version": 3
   },
   "file_extension": ".py",
   "mimetype": "text/x-python",
   "name": "python",
   "nbconvert_exporter": "python",
   "pygments_lexer": "ipython3",
   "version": "3.6.5"
  }
 },
 "nbformat": 4,
 "nbformat_minor": 2
}
